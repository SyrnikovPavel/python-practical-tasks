{
 "cells": [
  {
   "cell_type": "markdown",
   "metadata": {},
   "source": [
    "<h4> Необходимые библиотеки для модуля </h4>"
   ]
  },
  {
   "cell_type": "code",
   "execution_count": 1,
   "metadata": {},
   "outputs": [],
   "source": [
    "from urllib.request import urlopen, urlretrieve # для запроса к web-сайтам\n",
    "from bs4 import BeautifulSoup # для парсинга web-страниц\n",
    "import re # регулярные выражения\n",
    "from collections import Counter # для подсчета элементов в List"
   ]
  },
  {
   "cell_type": "markdown",
   "metadata": {},
   "source": [
    "<h1> Обработка web-страниц </h1>"
   ]
  },
  {
   "cell_type": "markdown",
   "metadata": {},
   "source": [
    "<h2> 1.1 Скачивание web-страниц </h2>\n",
    "Мы сохранили страницу с википедии про языки программирования и сохранили по адресу <a href=\"https://stepik.org/media/attachments/lesson/209717/1.html\">https://stepik.org/media/attachments/lesson/209717/1.html</a>\n",
    "Скачайте её с помощью скрипта на Питоне и посчитайте, какой язык упоминается чаще Python или C++ (ответ должен быть одной из этих двух строк)."
   ]
  },
  {
   "cell_type": "code",
   "execution_count": 2,
   "metadata": {},
   "outputs": [
    {
     "name": "stdout",
     "output_type": "stream",
     "text": [
      "Количество упоминаний Python 3\n",
      "Количество упоминаний C++ 17\n",
      "Чаще упомниается C++\n"
     ]
    }
   ],
   "source": [
    "url = 'https://stepik.org/media/attachments/lesson/209717/1.html'\n",
    "\n",
    "resp = urlopen(url) # запрос к web-сайту\n",
    "html = resp.read().decode('utf8').lower() # переводим bytes в str и делаем все буквы строчными\n",
    "\n",
    "count_python = html.lower().count('python') # считаем количество слов python в тексте\n",
    "count_c = html.count('c++')  # считаем количество слов C++ в тексте\n",
    "\n",
    "# выводим результаты:\n",
    "print(\"Количество упоминаний Python\", count_python) \n",
    "print(\"Количество упоминаний C++\", count_c)\n",
    "if count_python > count_c:\n",
    "    print(\"Чаще упомниается Python\")\n",
    "else:\n",
    "    print(\"Чаще упомниается C++\")"
   ]
  },
  {
   "cell_type": "markdown",
   "metadata": {},
   "source": [
    "<h2> 1.2 Скачивание web-страниц </h2>\n",
    "Файл <a href=\"https://stepik.org/media/attachments/lesson/209719/2.html\">https://stepik.org/media/attachments/lesson/209719/2.html</a> содержит статью с Википедии про язык Python. В этой статье есть теги code, которыми выделяются конструкции на языке Python. Вам нужно найти все строки, содержащиеся между тегами <code> и </code> и найти те строки, которые встречаются чаще всего и вывести их в алфавитном порядке, разделяя пробелами.\n",
    "Например, если исходный текст страницы выглядел бы так:"
   ]
  },
  {
   "cell_type": "raw",
   "metadata": {},
   "source": [
    "<code>a</code>\n",
    "<a>bracadabr</a>\n",
    "<code>c</code>\n",
    "<code>b</code>\n",
    "<code>b</code>\n",
    "<code>c</code>"
   ]
  },
  {
   "cell_type": "markdown",
   "metadata": {},
   "source": [
    "то в ответ надо было бы ввести строку \"b c\"."
   ]
  },
  {
   "cell_type": "code",
   "execution_count": 3,
   "metadata": {},
   "outputs": [
    {
     "name": "stdout",
     "output_type": "stream",
     "text": [
      "Наиболее часто встречающиеся строк в теге code:\n",
      "else except finally\n"
     ]
    }
   ],
   "source": [
    "url = 'https://stepik.org/media/attachments/lesson/209719/2.html'\n",
    "\n",
    "resp = urlopen(url) # запрос к web-сайту\n",
    "html = resp.read().decode('utf8') # переводим bytes в str и делаем все буквы строчными\n",
    "\n",
    "list_of_words = re.findall('<code>(.*?)<\\/code>', html) # находим все строки, которые находятся между тегом code\n",
    "list_of_words_count = Counter(list_of_words) # переводим это в словарь Counter для подсчета количества упоминаний \n",
    "max_count = max([x[1] for x in list_of_words_count.most_common()]) # максимальное количество упоминаний строк\n",
    "\n",
    "# Отбираем наиболее часто встречающиеся слова\n",
    "answer = '' # строка для ответа\n",
    "for x in list_of_words_count.most_common():\n",
    "    if x[1] == max_count:  # если количество упоминаний равно максимальному\n",
    "        answer += x[0] + ' ' # добавляем слово к строке-ответу с пробелом\n",
    "answer = answer[:-1] # убираем последний пробел, он лишний\n",
    "        \n",
    "print('Наиболее часто встречающиеся строк в теге code:')\n",
    "print(answer)"
   ]
  },
  {
   "cell_type": "markdown",
   "metadata": {},
   "source": [
    "<h2> 1.3 Знакомство с BeautifulSoup </h2>\n",
    "Сейчас вам нужно установить библиотеку BeautifulSoup. Чтобы проверить, что всё установилось хорошо, необходимо запусить код, представленный ниже и сдать в качестве ответа то, что он выводит."
   ]
  },
  {
   "cell_type": "code",
   "execution_count": 4,
   "metadata": {},
   "outputs": [
    {
     "name": "stdout",
     "output_type": "stream",
     "text": [
      "94596065609609271052308\n"
     ]
    }
   ],
   "source": [
    "resp = urlopen('https://stepik.org/media/attachments/lesson/245130/6.html') # скачиваем файл\n",
    "html = resp.read().decode('utf8') # считываем содержимое\n",
    "soup = BeautifulSoup(html, 'html.parser') # парсим страницу\n",
    "table = soup.find('table', attrs = {'class' : 'wikitable sortable'})\n",
    "cnt = 0\n",
    "for tr in soup.find_all('tr'):\n",
    "    cnt += 1\n",
    "    for td in tr.find_all(['td', 'th']):\n",
    "        cnt *= 2\n",
    "print(cnt)"
   ]
  },
  {
   "cell_type": "markdown",
   "metadata": {},
   "source": [
    "<h2> 1.4 Использование BeautifulSoup </h2>\n",
    "В файле <a href=\"https://stepik.org/media/attachments/lesson/209723/3.html\">https://stepik.org/media/attachments/lesson/209723/3.html</a> находится одна таблица. Просуммируйте все числа в ней и введите в качестве ответа одно число - эту сумму. Для доступа к ячейкам используйте возможности BeautifulSoup."
   ]
  },
  {
   "cell_type": "code",
   "execution_count": 5,
   "metadata": {},
   "outputs": [
    {
     "name": "stdout",
     "output_type": "stream",
     "text": [
      "Сумма чисел в таблице:\n",
      "1005425\n"
     ]
    }
   ],
   "source": [
    "url = 'https://stepik.org/media/attachments/lesson/209723/3.html'\n",
    "\n",
    "resp = urlopen(url) # скачиваем файл\n",
    "html = resp.read().decode('utf8') # считываем содержимое\n",
    "soup = BeautifulSoup(html, 'html.parser') # парсим страницу\n",
    "\n",
    "sum_numbers_in_table = sum(int(x.getText()) for x in soup.find_all('td')) # считаем сумму в ячейках\n",
    "\n",
    "# выводим результат:\n",
    "print(\"Сумма чисел в таблице:\")\n",
    "print(sum_numbers_in_table)"
   ]
  },
  {
   "cell_type": "markdown",
   "metadata": {},
   "source": [
    "В файле <a href=\"https://stepik.org/media/attachments/lesson/209723/4.html\">https://stepik.org/media/attachments/lesson/209723/4.html</a> находится одна таблица. Просуммируйте все числа в ней. Теперь мы добавили разных тегов для изменения стиля отображения. Для доступа к ячейкам используйте возможности BeautifulSoup."
   ]
  },
  {
   "cell_type": "code",
   "execution_count": 6,
   "metadata": {},
   "outputs": [
    {
     "name": "stdout",
     "output_type": "stream",
     "text": [
      "Сумма чисел в таблице:\n",
      "29536\n"
     ]
    }
   ],
   "source": [
    "url = 'https://stepik.org/media/attachments/lesson/209723/4.html'\n",
    "\n",
    "resp = urlopen(url) # скачиваем файл\n",
    "html = resp.read().decode('utf8') # считываем содержимое\n",
    "soup = BeautifulSoup(html, 'html.parser') # парсим страницу\n",
    "\n",
    "sum_numbers_in_table = sum(int(x.getText()) for x in soup.find_all('td')) # считаем сумму в ячейках\n",
    "\n",
    "# выводим результат:\n",
    "print(\"Сумма чисел в таблице:\")\n",
    "print(sum_numbers_in_table)"
   ]
  },
  {
   "cell_type": "markdown",
   "metadata": {},
   "source": [
    "В файле <a href=\"https://stepik.org/media/attachments/lesson/209723/5.html\">https://stepik.org/media/attachments/lesson/209723/5.html</a> находится одна таблица. Просуммируйте все числа в ней. Теперь мы не только добавили разных тегов для изменения стиля отображения, но и сделали невалидный HTML-код (правда, браузеры его отображают, а вот с BeautifulSoup могут быть проблемы). Невалидный HTML-код - не редкость в интернете, надо учиться работать и с этим.\n",
    "\n",
    "Вы можете исправить html-код или попробовать использовать нестандартный парсер html, такой как html5lib."
   ]
  },
  {
   "cell_type": "code",
   "execution_count": 7,
   "metadata": {},
   "outputs": [
    {
     "name": "stdout",
     "output_type": "stream",
     "text": [
      "Сумма чисел в таблице:\n",
      "28734\n"
     ]
    }
   ],
   "source": [
    "url = 'https://stepik.org/media/attachments/lesson/209723/5.html'\n",
    "\n",
    "resp = urlopen(url) # скачиваем файл\n",
    "html = resp.read().decode('utf8') # считываем содержимое\n",
    "soup = BeautifulSoup(html, 'html.parser') # парсим страницу\n",
    "\n",
    "sum_numbers_in_table = sum(int(x.getText()) for x in soup.find_all('td')) # считаем сумму в ячейках\n",
    "\n",
    "# выводим результат:\n",
    "print(\"Сумма чисел в таблице:\")\n",
    "print(sum_numbers_in_table)"
   ]
  }
 ],
 "metadata": {
  "kernelspec": {
   "display_name": "Python 3",
   "language": "python",
   "name": "python3"
  },
  "language_info": {
   "codemirror_mode": {
    "name": "ipython",
    "version": 3
   },
   "file_extension": ".py",
   "mimetype": "text/x-python",
   "name": "python",
   "nbconvert_exporter": "python",
   "pygments_lexer": "ipython3",
   "version": "3.7.3"
  }
 },
 "nbformat": 4,
 "nbformat_minor": 2
}
