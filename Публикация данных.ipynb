{
 "cells": [
  {
   "cell_type": "markdown",
   "metadata": {},
   "source": [
    "<h4> Необходимые библиотеки для модуля </h4>\n"
   ]
  },
  {
   "cell_type": "code",
   "execution_count": null,
   "metadata": {},
   "outputs": [],
   "source": []
  },
  {
   "cell_type": "markdown",
   "metadata": {},
   "source": [
    "<h1> Публикация данных </h1>"
   ]
  },
  {
   "cell_type": "markdown",
   "metadata": {},
   "source": [
    "<h2> 5.1 Создание веб-сервера </h2>\n",
    "\n",
    "Чтобы мы могли представлять данные красиво, необходимо научиться создавать html-файлы вручную. Мы уже анализировали их и имеем некоторое представление об их устройстве, но, как обычно, можно найти необходимую для создания html-файлов информацию в поисковике.\n",
    "\n",
    "В этой задаче вам необходимо сдать на проверку html-файл, в котором будет таблица размером 2 на 2, которая должна содержать в ячейках первой строки числа 1 и 2, а в ячейках второй строки числа 3 и 4. При открытии вашего файла в браузере это должно выглядеть примерно так:\n",
    "\n",
    "\n",
    "\n",
    "Ваш файл должен начинаться с тегов < html> и < body> и заканчиваться </ body> и </ html>.\n",
    "\n",
    "Для создания таблицы можно пользоваться тегами < table> (создание таблицы), < tr> (создание строки в таблице) и < td> (создание отдельной ячейки). Все открытые теги нужно закрыть, причем сделать это нужно в правильном порядке.\n",
    "\n",
    "Пожалуйста, не используйте никаких украшений и других тегов - мы не сможем проверить такие решения."
   ]
  },
  {
   "cell_type": "raw",
   "metadata": {},
   "source": [
    "Ответ:\n",
    "<html>\n",
    "    <body>\n",
    "        <table>\n",
    "            <tr>\n",
    "                <td>1</td>\n",
    "                <td>2</td>\n",
    "            </tr>\n",
    "            <tr>\n",
    "                <td>3</td>\n",
    "                <td>4</td>\n",
    "            </tr>\n",
    "        </table>\n",
    "    </body>\n",
    "</html>"
   ]
  },
  {
   "cell_type": "markdown",
   "metadata": {},
   "source": [
    "В этой задаче вам необходимо научиться генерировать html-код на питоне и сдать на проверку html-файл, в котором будет таблица размером 10 на 10, которая должна содержать таблицу умножения для чисел от 1 до 10. При открытии вашего файла в браузере это должно выглядеть примерно так:\n",
    "\n",
    "\n",
    "\n",
    "Ваш файл должен начинаться с тегов < html> и < body> и заканчиваться </ body> и </ html>.\n",
    "\n",
    "Для создания таблицы можно пользоваться тегами < table> (создание таблицы), < tr> (создание строки в таблице) и < td> (создание отдельной ячейки). Все открытые теги нужно закрыть, причем сделать это нужно в правильном порядке.\n",
    "\n",
    "Пожалуйста, не используйте никаких украшений и других тегов - мы не сможем проверить такие решения."
   ]
  },
  {
   "cell_type": "code",
   "execution_count": 6,
   "metadata": {},
   "outputs": [],
   "source": [
    "indent = 0\n",
    "space_tab = 4\n",
    "\n",
    "with open('5.1.2.html', 'w') as file:\n",
    "    file.write('<html>')\n",
    "    file.write(' ' * space_tab * (indent + 1) + '<body>')\n",
    "    file.write(' ' * space_tab * (indent + 2) + '<table>')\n",
    "    for row in range(1, 11):\n",
    "        file.write(' ' * space_tab * (indent + 3) + '<tr>')\n",
    "        for column in range(1, 11):\n",
    "            file.write(' ' * space_tab * (indent + 4) + '<td>' + str(row*column) + '</td>')\n",
    "        file.write(' ' * space_tab * (indent + 3) + '</tr>')\n",
    "    \n",
    "    file.write(' ' * space_tab * (indent + 2) + '</table>')\n",
    "    file.write(' ' * space_tab * (indent + 1) + '</body>')\n",
    "    file.write('</html>')"
   ]
  },
  {
   "cell_type": "markdown",
   "metadata": {},
   "source": [
    "В этой задаче вам предстоит научиться создавать ссылки. Вам нужно сгенерировать html-код на питоне и сдать на проверку html-файл, в котором будет таблица размером 10 на 10, которая должна содержать таблицу умножения для чисел от 1 до 10. Каждое число в таблице должно быть ссылкой на страницу http://<это число>.ru. Например, число 12 должно быть ссылкой на страницу http://12.ru\n",
    "\n",
    "При открытии вашего файла в браузере это должно выглядеть примерно так:\n",
    "\n",
    "\n",
    "\n",
    "Ваш файл должен начинаться с тегов < html> и < body> и заканчиваться </ body> и </ html>.\n",
    "\n",
    "Для создания таблицы можно пользоваться тегами < table> (создание таблицы), < tr> (создание строки в таблице) и < td> (создание отдельной ячейки). Все открытые теги нужно закрыть, причем сделать это нужно в правильном порядке.\n",
    "\n",
    "Для создания ссылки пользуйтесь тегом < a>. Например, ссылка на страницу http://hse.ru с текстом \"Высшая школа экономики\" должна выглядеть так: < a href=http://hse.ru>Высшая школа экономики</ a>.\n",
    "\n",
    "Пожалуйста, не используйте никаких украшений и других тегов - мы не сможем проверить такие решения."
   ]
  },
  {
   "cell_type": "code",
   "execution_count": 7,
   "metadata": {},
   "outputs": [],
   "source": [
    "indent = 0\n",
    "space_tab = 4\n",
    "\n",
    "with open('5.1.3.html', 'w') as file:\n",
    "    file.write('<html>')\n",
    "    file.write(' ' * space_tab * (indent + 1) + '<body>')\n",
    "    file.write(' ' * space_tab * (indent + 2) + '<table>')\n",
    "    for row in range(1, 11):\n",
    "        file.write(' ' * space_tab * (indent + 3) + '<tr>')\n",
    "        for column in range(1, 11):\n",
    "            file.write(' ' * space_tab * (indent + 4) + '<td><a href=http://{0}.ru>'.format(str(row*column)) + str(row*column) + '</a></td>')\n",
    "        file.write(' ' * space_tab * (indent + 3) + '</tr>')\n",
    "    \n",
    "    file.write(' ' * space_tab * (indent + 2) + '</table>')\n",
    "    file.write(' ' * space_tab * (indent + 1) + '</body>')\n",
    "    file.write('</html>')"
   ]
  },
  {
   "cell_type": "markdown",
   "metadata": {},
   "source": [
    "<h2> 5.2 Обработка форм и генерация HTML </h2>\n",
    "\n",
    "В этой задаче вам предстоит настроить и запустить веб-сервер. Создайте файл index.html с формой, в которой есть единственное текстовое поле ввода с именем INPUT_TEXT и кнопка отправить.\n",
    "\n",
    "В папке cgi-bin создайте скрипт со следующим содержанием:"
   ]
  },
  {
   "cell_type": "raw",
   "metadata": {},
   "source": [
    "#!/usr/bin/env python3\n",
    "import cgi\n",
    "\n",
    "def ohash(s):\n",
    "    ans = 0\n",
    "    for c in s:\n",
    "        ans = ans * 123417 + ord(c)\n",
    "    return ans\n",
    "\n",
    "form = cgi.FieldStorage()\n",
    "text = form.getfirst(\"INPUT_TEXT\", \"не задано\")\n",
    "\n",
    "print(\"Content-type: text/html\\n\")\n",
    "print(\"\"\"<!DOCTYPE HTML>\n",
    "        <html>\n",
    "        <head>\n",
    "            <meta charset=\"utf-8\">\n",
    "        </head>\n",
    "        <body>\"\"\")\n",
    "\n",
    "print(\"<h1>\" + str(ohash(text)) + \"</h1>\")\n",
    "\n",
    "print(\"\"\"</body>\n",
    "        </html>\"\"\")"
   ]
  },
  {
   "cell_type": "markdown",
   "metadata": {},
   "source": [
    "Запустите скрипт, поднимающий веб-сервер с вашей формой, откройте страницу и введите слово Python (обязательно с большой буквы). У вас должна открыться страница, содержащая единственное число, введите его в качестве ответа."
   ]
  },
  {
   "cell_type": "code",
   "execution_count": 11,
   "metadata": {},
   "outputs": [
    {
     "name": "stdout",
     "output_type": "stream",
     "text": [
      "2290710658703611189398393962\n"
     ]
    }
   ],
   "source": [
    "ans = 0\n",
    "for c in \"Python\":\n",
    "    ans = ans * 123417 + ord(c)\n",
    "\n",
    "#выводим результат:\n",
    "print(ans)"
   ]
  },
  {
   "cell_type": "markdown",
   "metadata": {},
   "source": [
    "В этой задаче вам предстоит настроить и запустить веб-сервер, а также обнаружить проблему в скрипте, обрабатывающем данные формы. Создайте файл index.html с формой, в которой есть единственное текстовое поле ввода с именем INPUT_TEXT и кнопка отправить.\n",
    "\n",
    "В папке cgi-bin создайте скрипт со следующим содержанием:"
   ]
  },
  {
   "cell_type": "raw",
   "metadata": {},
   "source": [
    "#!/usr/bin/env python3\n",
    "import cgi\n",
    "\n",
    "form = cgi.FieldStorage()\n",
    "text = form.getfirst(\"INPUT_TEXT\", \"не задано\")\n",
    "text = text[:-1]\n",
    "\n",
    "print(\"Content-type: text/html\\n\")\n",
    "print(\"\"\"<!DOCTYPE HTML>\n",
    "        <html>\n",
    "        <head>\n",
    "            <meta charset=\"utf-8\">\n",
    "        </head>\n",
    "        <body>\"\"\")\n",
    "\t\t\n",
    "for i in range(1, len(text) + 1, 2):\n",
    "\tprint(\"<h1>\" + str(hash(text[i])) + \"</h1>\")\n",
    "\n",
    "print(\"\"\"</body>\n",
    "        </html>\"\"\")"
   ]
  },
  {
   "cell_type": "markdown",
   "metadata": {},
   "source": [
    "Запустите скрипт, поднимающий веб-сервер с вашей формой, откройте страницу и введите слово Python (обязательно с большой буквы). У вас должна открыться страница, содержащая несколько чисел. Однако, если вы откроете ее исходный текст, то обнаружите, что она обрывается без закрытия некоторых тегов, а это значит, что что-то пошло не так.\n",
    "\n",
    "Поймите, где искать сообщение об ошибке и в качестве ответа введите номер строки, в которой произошла ошибка."
   ]
  },
  {
   "cell_type": "code",
   "execution_count": 14,
   "metadata": {},
   "outputs": [
    {
     "name": "stdout",
     "output_type": "stream",
     "text": [
      "17\n"
     ]
    }
   ],
   "source": [
    "#выводим результат:\n",
    "print(17)"
   ]
  }
 ],
 "metadata": {
  "kernelspec": {
   "display_name": "Python 3",
   "language": "python",
   "name": "python3"
  },
  "language_info": {
   "codemirror_mode": {
    "name": "ipython",
    "version": 3
   },
   "file_extension": ".py",
   "mimetype": "text/x-python",
   "name": "python",
   "nbconvert_exporter": "python",
   "pygments_lexer": "ipython3",
   "version": "3.7.3"
  }
 },
 "nbformat": 4,
 "nbformat_minor": 2
}
