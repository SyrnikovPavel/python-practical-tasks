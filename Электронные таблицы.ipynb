{
 "cells": [
  {
   "cell_type": "markdown",
   "metadata": {},
   "source": [
    "<h4> Необходимые библиотеки для модуля </h4>"
   ]
  },
  {
   "cell_type": "code",
   "execution_count": 1,
   "metadata": {},
   "outputs": [],
   "source": [
    "import xlrd # для работы с excel\n",
    "from openpyxl import load_workbook # более удобная библиотека для работы с xlsx файлами =>\n",
    "# => позволяет как читать, так и записывать данные в файл\n",
    "import pandas as pd # для расчетов"
   ]
  },
  {
   "cell_type": "markdown",
   "metadata": {},
   "source": [
    "<h1> Электронные таблицы </h1>"
   ]
  },
  {
   "cell_type": "markdown",
   "metadata": {},
   "source": [
    "<h2> 2.1 Знакомство с электронными таблицами </h2>\n",
    "Для решения этой задачи необходимо установить библиотеку xlrd, скачать файл <a href=\"https://stepik.org/media/attachments/lesson/245266/tab.xlsx\">https://stepik.org/media/attachments/lesson/245266/tab.xlsx</a> и создать в папке с этим файлом скрипт со следующем содержанием:"
   ]
  },
  {
   "cell_type": "code",
   "execution_count": 27,
   "metadata": {},
   "outputs": [
    {
     "name": "stdout",
     "output_type": "stream",
     "text": [
      "39650.2\n"
     ]
    }
   ],
   "source": [
    "wb = xlrd.open_workbook('tab.xlsx')\n",
    "sheet_names = wb.sheet_names()\n",
    "sh = wb.sheet_by_name(sheet_names[0])\n",
    "nmin = sh.row_values(6)[2]\n",
    "for rownum in range(7, 27):\n",
    "    temp = sh.row_values(rownum)\n",
    "    nmin = min(nmin, temp[2])\n",
    "print(nmin)"
   ]
  },
  {
   "cell_type": "markdown",
   "metadata": {},
   "source": [
    "<h2> 2.2 Работа с одним листом </h2>\n",
    "Вася планирует карьеру и переезд. Для это составил таблицу, в которой для каждого региона записал зарплаты для разных интересные ему профессий. Таблица доступна по ссылке <a href=\"https://stepik.org/media/attachments/lesson/245267/salaries.xlsx\">https://stepik.org/media/attachments/lesson/245267/salaries.xlsx</a>. Выведите название региона с самой высокой медианной зарплатой (медианой называется элемент, стоящий в середине массива после его упорядочивания) и, через пробел, название профессии с самой высокой средней зарплатой по всем регионам. "
   ]
  },
  {
   "cell_type": "code",
   "execution_count": 28,
   "metadata": {},
   "outputs": [
    {
     "name": "stdout",
     "output_type": "stream",
     "text": [
      "Самая большая медианная заработная плата в городе: Куала-Лумпур\n",
      "Самая большая средняя заработная плата у профессии: Собачий парикмахер\n",
      "Куала-Лумпур Собачий парикмахер\n"
     ]
    }
   ],
   "source": [
    "wb = xlrd.open_workbook('salaries.xlsx') # открываем файл\n",
    "sheet_names = wb.sheet_names() # получаем список листов\n",
    "sh = wb.sheet_by_name(sheet_names[0]) # открываем первый лист\n",
    "\n",
    "# формируем данные для расчета\n",
    "data = []\n",
    "for row in range(1, sh.nrows):\n",
    "    city = sh.cell(row,0).value\n",
    "    for column in range(1, sh.ncols):\n",
    "        work = sh.cell(0,column).value\n",
    "        data.append([\n",
    "            city,\n",
    "            work,\n",
    "            sh.cell(row,column).value\n",
    "        ])\n",
    "\n",
    "df = pd.DataFrame(data, columns=['city', 'work', 'salary']) # для удобства расчетов используем Pandas\n",
    "# расчет:\n",
    "# группируем данные по городу, рассчитываем по группировке медиану, сортируем от максимальной к минимальной \n",
    "#и берем первый результат\n",
    "largest_median_salary_city = df.groupby(by=['city']).median().sort_values(by=['salary'], ascending=False).index[0] \n",
    "# группируем данные по работе, рассчитываем по группировке среднюю, сортируем от максимальной к минимальной \n",
    "#и берем первый результат\n",
    "largest_mean_salary_work = df.groupby(by=['work']).mean().sort_values(by=['salary'], ascending=False).index[0]\n",
    "# выводим результат:\n",
    "print(\"Самая большая медианная заработная плата в городе:\", largest_median_salary_city)\n",
    "print(\"Самая большая средняя заработная плата у профессии:\", largest_mean_salary_work)\n",
    "print(largest_median_salary_city + ' ' + largest_mean_salary_work)"
   ]
  },
  {
   "cell_type": "markdown",
   "metadata": {},
   "source": [
    "<h2> 2.3 Работа с несколькими листами </h2>\n",
    "Васю назначили завхозом в туристической группе и он подошёл к подготовке ответственно, составив справочник продуктов с указанием калорийности на 100 грамм, а также содержание белков, жиров и углеводов на 100 грамм продукта. Ему не удалось найти всю информацию, поэтому некоторые ячейки остались незаполненными (можно считать их значение равным нулю). Также он использовал какой-то странный офисный пакет и разделял целую и дробную часть чисел запятой. Таблица доступна по ссылке <a href=\"https://stepik.org/media/attachments/lesson/245290/trekking1.xlsx\">https://stepik.org/media/attachments/lesson/245290/trekking1.xlsx</a>\n",
    "\n",
    "Вася хочет минимизировать вес продуктов и для этого брать самые калорийные продукты. Помогите ему и упорядочите продукты по убыванию калорийности. В случае, если продукты имеют одинаковую калорийность - упорядочите их по названию. В качестве ответа необходимо сдать названия продуктов, по одному в строке."
   ]
  },
  {
   "cell_type": "code",
   "execution_count": 14,
   "metadata": {},
   "outputs": [
    {
     "name": "stdout",
     "output_type": "stream",
     "text": [
      "Список продуктов по убыванию калорийности:\n",
      "Шоколад молочный какао\n",
      "Шоколад молочный миндаль\n",
      "Сухофрукты\n",
      "Омлет с копченостями галагала\n",
      "Свинина сублимрованная\n",
      "Шоколад ремесленный\n",
      "Козинак подсолнечный\n",
      "Омлет с грибами галагала\n",
      "Козинак арахисовый\n",
      "Хлебцы льняные \"Тайские\"\n",
      "Колбаса с/к \"Еврейская полусухая\"\n",
      "Говядина сублимрованная\n",
      "Сухарики ржаные с семечками\n",
      "Хлебцы льняные Морские\n",
      "Суп говяжий с картофелем галагала\n",
      "Суп гороховый с копченостями\n",
      "Суп гороховый с копченостями галагала\n",
      "Суп куриный с картофелем галагала\n",
      "Суп-гуляш галагала\n",
      "Суп-харчо \"Острый\"\n",
      "Сыр Маасдам\n",
      "Сыр Чеддер\n",
      "Борщ Московский Галагала\n",
      "Крупа гречневая\n",
      "Рис пропаренный Увелка\n",
      "Свинина Кронидов\n",
      "Сухарики ржаные Finn Crisp\n",
      "Капеллини Макфа\n",
      "Сыр Гауда\n",
      "Кус Кус\n",
      "Каша Быстров\n",
      "Картофель сушеный\n",
      "Говядина Кронидов\n",
      "Хлебцы с чесноком и луком\n",
      "Суп томатный с рисом\n",
      "Балык \"Королевский\"\n",
      "Паутина\n"
     ]
    }
   ],
   "source": [
    "wb = load_workbook('trekking1.xlsx') # загружаем книгу\n",
    "ws = wb['Справочник'] # выбираем лист справочник\n",
    "\n",
    "data = [] # List для рассчетов\n",
    "# в этом задании нас интересует калорийность на 100 грамм (столбец B)\n",
    "for row in range(2, ws.max_row+1): # max_row - указывается на номер последней строк\n",
    "    name = ws.cell(row=row, column=1).value # получаем название продукта\n",
    "    kcal = ws.cell(row=row, column=2).value # получаем калорийность продукта\n",
    "    data.append([name, kcal])\n",
    "    \n",
    "\n",
    "df = pd.DataFrame(data, columns=['name', 'kcal']) # используем pandas для расчетов\n",
    "print(\"Список продуктов по убыванию калорийности:\")\n",
    "for name in df.sort_values(by=['kcal', 'name'], ascending=[False, True]).name: # сортируем массив по убыванию\n",
    "    print(name) # выводим результат"
   ]
  },
  {
   "cell_type": "markdown",
   "metadata": {},
   "source": [
    "Васю назначили завхозом в туристической группе и он подошёл к подготовке ответственно, составив справочник продуктов с указанием калорийности на 100 грамм, а также содержание белков, жиров и углеводов на 100 грамм продукта. Ему не удалось найти всю информацию, поэтому некоторые ячейки остались незаполненными (можно считать их значение равным нулю). Также он использовал какой-то странный офисный пакет и разделял целую и дробную часть чисел запятой. Таблица доступна по ссылке <a href=\"https://stepik.org/media/attachments/lesson/245290/trekking2.xlsx \">https://stepik.org/media/attachments/lesson/245290/trekking2.xlsx</a>\n",
    "\n",
    "Вася составил раскладку по продуктам на один день (она на листе \"Раскладка\") с указанием названия продукта и его количества в граммах. Посчитайте 4 числа: суммарную калорийность и граммы белков, жиров и углеводов. Числа округлите до целых вниз и введите через пробел."
   ]
  },
  {
   "cell_type": "code",
   "execution_count": 31,
   "metadata": {},
   "outputs": [
    {
     "name": "stdout",
     "output_type": "stream",
     "text": [
      "Пищевая ценность продуктов составляет (суммарная калорийность, граммы белков, жиров и углеводов):\n",
      "4963 203 307 302\n"
     ]
    }
   ],
   "source": [
    "# функция для округления вниз\n",
    "def truncate(n, decimals=0):\n",
    "    multiplier = 10 ** decimals\n",
    "    return int(n * multiplier) / multiplier\n",
    "\n",
    "wb = load_workbook('trekking2.xlsx') # загружаем книгу\n",
    "ws = wb['Справочник'] # выбираем лист Справочник\n",
    "\n",
    "data_value = {} # dict для рассчетов\n",
    "# в этом задании нас интересует калорийность на 100 грамм (столбец B)\n",
    "for row in range(2, ws.max_row+1): # max_row - указывается на номер последней строк\n",
    "    name = ws.cell(row=row, column=1).value # получаем название продукта\n",
    "    kcal = 0 if ws.cell(row=row, column=2).value is None else ws.cell(row=row, column=2).value # получаем калорийность продукта\n",
    "    b = 0 if ws.cell(row=row, column=3).value is None else ws.cell(row=row, column=3).value # получаем белки\n",
    "    z = 0 if ws.cell(row=row, column=4).value is None else ws.cell(row=row, column=4).value # получаем жиры\n",
    "    u = 0 if ws.cell(row=row, column=5).value is None else ws.cell(row=row, column=5).value # получаем углеводы\n",
    "    data_value.update({\n",
    "        name: {\n",
    "            'kcal':kcal, \n",
    "            'b':b, \n",
    "            'z':z, \n",
    "            'u':u\n",
    "        }\n",
    "    })\n",
    "    \n",
    "# переменные для формирования ответа\n",
    "kcal = 0\n",
    "b = 0\n",
    "z = 0\n",
    "u  = 0\n",
    "ws = wb['Раскладка'] # выбираем лист Раскладка\n",
    "for row in range(2, ws.max_row+1):\n",
    "    name =  ws.cell(row=row, column=1).value # получаем название продукта\n",
    "    weight = ws.cell(row=row, column=2).value # получаем вес продукта\n",
    "    \n",
    "    # находим пищевую ценность для набора продуктов\n",
    "    kcal += data_value[name]['kcal'] / 100 * weight\n",
    "    b += data_value[name]['b'] / 100 * weight\n",
    "    z += data_value[name]['z'] / 100 * weight\n",
    "    u += data_value[name]['u'] / 100 * weight\n",
    "    \n",
    "print(\"Пищевая ценность продуктов составляет (суммарная калорийность, граммы белков, жиров и углеводов):\")\n",
    "print(int(truncate(kcal)), int(truncate(b)), int(truncate(z)), int(truncate(u)))"
   ]
  },
  {
   "cell_type": "markdown",
   "metadata": {},
   "source": [
    "Васю назначили завхозом в туристической группе и он подошёл к подготовке ответственно, составив справочник продуктов с указанием калорийности на 100 грамм, а также содержание белков, жиров и углеводов на 100 грамм продукта. Ему не удалось найти всю информацию, поэтому некоторые ячейки остались незаполненными (можно считать их значение равным нулю). Также он использовал какой-то странный офисный пакет и разделял целую и дробную часть чисел запятой. Таблица доступна по ссылке <a href=\"https://stepik.org/media/attachments/lesson/245290/trekking3.xlsx\">https://stepik.org/media/attachments/lesson/245290/trekking3.xlsx</a>\n",
    "\n",
    "Вася составил раскладку по продуктам на весь поход (она на листе \"Раскладка\") с указанием номера дня, названия продукта и его количества в граммах. Для каждого дня посчитайте 4 числа: суммарную калорийность и граммы белков, жиров и углеводов. Числа округлите до целых вниз и введите через пробел. Информация о каждом дне должна выводиться в отдельной строке."
   ]
  },
  {
   "cell_type": "code",
   "execution_count": 35,
   "metadata": {},
   "outputs": [],
   "source": [
    "# функция для округления вниз\n",
    "def truncate(n, decimals=0):\n",
    "    multiplier = 10 ** decimals\n",
    "    return int(n * multiplier) / multiplier\n",
    "\n",
    "wb = load_workbook('trekking3.xlsx') # загружаем книгу\n",
    "ws = wb['Справочник'] # выбираем лист Справочник\n",
    "\n",
    "data_value = {} # dict для рассчетов\n",
    "# в этом задании нас интересует калорийность на 100 грамм (столбец B)\n",
    "for row in range(2, ws.max_row+1): # max_row - указывается на номер последней строк\n",
    "    name = ws.cell(row=row, column=1).value # получаем название продукта\n",
    "    kcal = 0 if ws.cell(row=row, column=2).value is None else ws.cell(row=row, column=2).value # получаем калорийность продукта\n",
    "    b = 0 if ws.cell(row=row, column=3).value is None else ws.cell(row=row, column=3).value # получаем белки\n",
    "    z = 0 if ws.cell(row=row, column=4).value is None else ws.cell(row=row, column=4).value # получаем жиры\n",
    "    u = 0 if ws.cell(row=row, column=5).value is None else ws.cell(row=row, column=5).value # получаем углеводы\n",
    "    data_value.update({\n",
    "        name: {\n",
    "            'kcal':kcal, \n",
    "            'b':b, \n",
    "            'z':z, \n",
    "            'u':u\n",
    "        }\n",
    "    })\n",
    "    \n",
    "# dict для формирования ответа\n",
    "data = {}\n",
    "ws = wb['Раскладка'] # выбираем лист Раскладка\n",
    "for row in range(2, ws.max_row+1):\n",
    "    num_day = ws.cell(row=row, column=1).value # получаем номер дня\n",
    "    name =  ws.cell(row=row, column=2).value # получаем название продукта\n",
    "    weight = ws.cell(row=row, column=3).value # получаем вес продукта\n",
    "    \n",
    "    # добавляем в словарь данные о пищевой ценности\n",
    "    if num_day not in data:\n",
    "        data.update({\n",
    "            num_day: {\n",
    "                'kcal': data_value[name]['kcal'] / 100 * weight,\n",
    "                'b': data_value[name]['b'] / 100 * weight,\n",
    "                'z': data_value[name]['z'] / 100 * weight,\n",
    "                'u': data_value[name]['u'] / 100 * weight,\n",
    "            }\n",
    "        })\n",
    "    else:\n",
    "        data[num_day]['kcal'] += data_value[name]['kcal'] / 100 * weight\n",
    "        data[num_day]['b'] += data_value[name]['b'] / 100 * weight\n",
    "        data[num_day]['z'] += data_value[name]['z'] / 100 * weight\n",
    "        data[num_day]['u'] += data_value[name]['u'] / 100 * weight\n",
    "        \n",
    "print(\"Пищевая ценность продуктов на каждый день составляет (суммарная калорийность, граммы белков, жиров и углеводов):\")\n",
    "\n",
    "for num_day, data_day in data.items():\n",
    "    print(\n",
    "        int(truncate(data_day['kcal'])), \n",
    "        int(truncate(data_day['b'])), \n",
    "        int(truncate(data_day['z'])), \n",
    "        int(truncate(data_day['u']))\n",
    "    )"
   ]
  },
  {
   "cell_type": "code",
   "execution_count": 39,
   "metadata": {},
   "outputs": [
    {
     "name": "stdout",
     "output_type": "stream",
     "text": [
      "Пищевая ценность продуктов на каждый день составляет (суммарная калорийность, граммы белков, жиров и углеводов):\n",
      "2405 82 154 172\n",
      "4963 203 307 302\n",
      "5219 178 267 502\n",
      "4873 241 204 537\n",
      "5278 243 314 367\n",
      "4451 190 188 497\n",
      "4806 205 265 386\n",
      "5738 264 195 720\n",
      "1766 66 90 171\n"
     ]
    }
   ],
   "source": []
  },
  {
   "cell_type": "code",
   "execution_count": null,
   "metadata": {},
   "outputs": [],
   "source": []
  },
  {
   "cell_type": "code",
   "execution_count": null,
   "metadata": {},
   "outputs": [],
   "source": []
  }
 ],
 "metadata": {
  "kernelspec": {
   "display_name": "Python 3",
   "language": "python",
   "name": "python3"
  },
  "language_info": {
   "codemirror_mode": {
    "name": "ipython",
    "version": 3
   },
   "file_extension": ".py",
   "mimetype": "text/x-python",
   "name": "python",
   "nbconvert_exporter": "python",
   "pygments_lexer": "ipython3",
   "version": "3.7.3"
  }
 },
 "nbformat": 4,
 "nbformat_minor": 2
}
