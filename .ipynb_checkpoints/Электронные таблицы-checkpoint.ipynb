{
 "cells": [
  {
   "cell_type": "markdown",
   "metadata": {},
   "source": [
    "<h4> Необходимые библиотеки для модуля </h4>"
   ]
  },
  {
   "cell_type": "code",
   "execution_count": 13,
   "metadata": {},
   "outputs": [],
   "source": [
    "import xlrd # для работы с excel\n",
    "import pandas as pd # для расчетов"
   ]
  },
  {
   "cell_type": "markdown",
   "metadata": {},
   "source": [
    "<h1> Электронные таблицы </h1>"
   ]
  },
  {
   "cell_type": "markdown",
   "metadata": {},
   "source": [
    "<h2> 2.1 Знакомство с электронными таблицами </h2>\n",
    "Для решения этой задачи необходимо установить библиотеку xlrd, скачать файл <a href=\"https://stepik.org/media/attachments/lesson/245266/tab.xlsx\">https://stepik.org/media/attachments/lesson/245266/tab.xlsx</a> и создать в папке с этим файлом скрипт со следующем содержанием:"
   ]
  },
  {
   "cell_type": "code",
   "execution_count": null,
   "metadata": {},
   "outputs": [],
   "source": [
    "wb = xlrd.open_workbook('tab.xlsx')\n",
    "sheet_names = wb.sheet_names()\n",
    "sh = wb.sheet_by_name(sheet_names[0])\n",
    "nmin = sh.row_values(6)[2]\n",
    "for rownum in range(7, 27):\n",
    "    temp = sh.row_values(rownum)\n",
    "    nmin = min(nmin, temp[2])\n",
    "print(nmin)"
   ]
  },
  {
   "cell_type": "markdown",
   "metadata": {},
   "source": [
    "<h2> 2.2 Работа с одним листом </h2>\n",
    "Вася планирует карьеру и переезд. Для это составил таблицу, в которой для каждого региона записал зарплаты для разных интересные ему профессий. Таблица доступна по ссылке <a href=\"https://stepik.org/media/attachments/lesson/245267/salaries.xlsx\">https://stepik.org/media/attachments/lesson/245267/salaries.xlsx</a>. Выведите название региона с самой высокой медианной зарплатой (медианой называется элемент, стоящий в середине массива после его упорядочивания) и, через пробел, название профессии с самой высокой средней зарплатой по всем регионам. "
   ]
  },
  {
   "cell_type": "code",
   "execution_count": 26,
   "metadata": {},
   "outputs": [
    {
     "name": "stdout",
     "output_type": "stream",
     "text": [
      "Самая большая медианная заработная плата в городе: Куала-Лумпур\n",
      "Самая большая средняя заработная плата у профессии: Собачий парикмахер\n",
      "Куала-Лумпур Собачий парикмахер\n"
     ]
    }
   ],
   "source": [
    "wb = xlrd.open_workbook('salaries.xlsx') # открываем файл\n",
    "sheet_names = wb.sheet_names() # получаем список листов\n",
    "sh = wb.sheet_by_name(sheet_names[0]) # открываем первый лист\n",
    "\n",
    "# формируем данные для расчета\n",
    "data = []\n",
    "for row in range(1, sh.nrows):\n",
    "    city = sh.cell(row,0).value\n",
    "    for column in range(1, sh.ncols):\n",
    "        work = sh.cell(0,column).value\n",
    "        data.append([\n",
    "            city,\n",
    "            work,\n",
    "            sh.cell(row,column).value\n",
    "        ])\n",
    "\n",
    "df = pd.DataFrame(data, columns=['city', 'work', 'salary']) # для удобства расчетов используем Pandas\n",
    "# расчет:\n",
    "# группируем данные по городу, рассчитываем по группировке медиану, сортируем от максимальной к минимальной \n",
    "#и берем первый результат\n",
    "largest_median_salary_city = df.groupby(by=['city']).median().sort_values(by=['salary'], ascending=False).index[0] \n",
    "# группируем данные по работе, рассчитываем по группировке среднюю, сортируем от максимальной к минимальной \n",
    "#и берем первый результат\n",
    "largest_mean_salary_work = df.groupby(by=['work']).mean().sort_values(by=['salary'], ascending=False).index[0]\n",
    "# выводим результат:\n",
    "print(\"Самая большая медианная заработная плата в городе:\", largest_median_salary_city)\n",
    "print(\"Самая большая средняя заработная плата у профессии:\", largest_mean_salary_work)\n",
    "print(largest_median_salary_city + ' ' + largest_mean_salary_work)"
   ]
  },
  {
   "cell_type": "code",
   "execution_count": null,
   "metadata": {},
   "outputs": [],
   "source": []
  },
  {
   "cell_type": "code",
   "execution_count": null,
   "metadata": {},
   "outputs": [],
   "source": []
  },
  {
   "cell_type": "code",
   "execution_count": null,
   "metadata": {},
   "outputs": [],
   "source": []
  },
  {
   "cell_type": "code",
   "execution_count": null,
   "metadata": {},
   "outputs": [],
   "source": []
  }
 ],
 "metadata": {
  "kernelspec": {
   "display_name": "Python 3",
   "language": "python",
   "name": "python3"
  },
  "language_info": {
   "codemirror_mode": {
    "name": "ipython",
    "version": 3
   },
   "file_extension": ".py",
   "mimetype": "text/x-python",
   "name": "python",
   "nbconvert_exporter": "python",
   "pygments_lexer": "ipython3",
   "version": "3.7.3"
  }
 },
 "nbformat": 4,
 "nbformat_minor": 2
}
