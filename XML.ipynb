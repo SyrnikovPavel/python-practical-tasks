{
 "cells": [
  {
   "cell_type": "markdown",
   "metadata": {},
   "source": [
    "<h4> Необходимые библиотеки для модуля </h4>"
   ]
  },
  {
   "cell_type": "code",
   "execution_count": 2,
   "metadata": {},
   "outputs": [],
   "source": [
    "import xmltodict # библиотека для работы с xml\n",
    "from lxml import etree   # библиотека для работы с xml"
   ]
  },
  {
   "cell_type": "markdown",
   "metadata": {},
   "source": [
    "<h1> XML </h1>"
   ]
  },
  {
   "cell_type": "markdown",
   "metadata": {},
   "source": [
    "<h2> 3.1 Знакомство с XML </h2>\n",
    "В этой задаче нужно просто установить библиотеку xmltodict, скачать файл <a href=\"https://stepik.org/media/attachments/lesson/245571/map1.osm\">https://stepik.org/media/attachments/lesson/245571/map1.osm</a>, создать в директории с файлом скрипт со следующим содержанием:"
   ]
  },
  {
   "cell_type": "code",
   "execution_count": 3,
   "metadata": {},
   "outputs": [
    {
     "name": "stdout",
     "output_type": "stream",
     "text": [
      "296932122\n"
     ]
    }
   ],
   "source": [
    "fin = open('map1.osm', 'r', encoding='utf8')\n",
    "xml = fin.read()\n",
    "fin.close()\n",
    "\n",
    "parsedxml = xmltodict.parse(xml)\n",
    "print(parsedxml['osm']['node'][100]['@id'])"
   ]
  },
  {
   "cell_type": "markdown",
   "metadata": {},
   "source": [
    "<h2> 3.2 OpenStreetMap как пример XML </h2>\n",
    "В OpenStreetMap XML встречаются теги node, которые соответствуют некоторым точкам на карте. Ноды могут не только обозначать какой-то точечный объект, но и входить в состав way (некоторой линии, возможно замкнутой) и не иметь собственных тегов. Для доступного по ссылке <a href=\"https://stepik.org/media/attachments/lesson/245678/map1.osm\">https://stepik.org/media/attachments/lesson/245678/map1.osm</a> фрагмента карты посчитайте, сколько node имеет хотя бы один вложенный тэг tag, а сколько - не имеют. В качестве ответа введите два числа, разделённых пробелом."
   ]
  },
  {
   "cell_type": "code",
   "execution_count": 23,
   "metadata": {},
   "outputs": [
    {
     "name": "stdout",
     "output_type": "stream",
     "text": [
      "316 6166\n"
     ]
    }
   ],
   "source": [
    "# октрываем файл\n",
    "with open('map1_1.osm', 'r', encoding=\"utf8\") as fobj:\n",
    "    xml = fobj.read()\n",
    "    root = etree.fromstring(xml.encode('utf-8'))\n",
    "    \n",
    "nodes_with_tag = [node for node in root.iter('node') if node.find('tag') is not None] # находим все node, которые имеют tag\n",
    "nodes_without_tag = [node for node in root.iter('node') if node.find('tag') is None] # находим все node, которые не имеют tag\n",
    "\n",
    "# выводим результат:\n",
    "print(len(nodes_with_tag), len(nodes_without_tag)) "
   ]
  },
  {
   "cell_type": "markdown",
   "metadata": {},
   "source": [
    "<h2> 3.3 Обработка XML с разным количеством вложенных тэгов </h2>\n",
    "Вася решил открыть АЗС (заправку). Чтобы оценить уровень конкуренции он хочет изучить количество заправок в интересующем его районе. Вася скачал интересующий его кусок карты OSM <a href=\"https://stepik.org/media/attachments/lesson/245681/map2.osm\">https://stepik.org/media/attachments/lesson/245681/map2.osm</a> и хочет посчитать, сколько на нём отмечено точечных объектов (node), являющихся заправкой. В качестве ответа вам необходимо вывести одно число - количество АЗС.\n",
    "\n",
    "\"Как обозначается заправка в OpenStreetMap\" - пример хорошего запроса чтобы узнать, как обозначается заправка в OpenStreetMap."
   ]
  },
  {
   "cell_type": "code",
   "execution_count": 58,
   "metadata": {},
   "outputs": [
    {
     "name": "stdout",
     "output_type": "stream",
     "text": [
      "15\n"
     ]
    }
   ],
   "source": [
    "# открываем файл\n",
    "with open('map2.osm', 'r', encoding=\"utf8\") as fobj:\n",
    "    xml = fobj.read()\n",
    "    root = etree.fromstring(xml.encode('utf-8'))\n",
    "    \n",
    "count_fuel = sum(1 for tag in root.iter('tag') if (tag.get('v') == 'fuel' and tag.getparent().tag=='node')) # находим количество заправок\n",
    "\n",
    "# выводим результат:\n",
    "print(count_fuel)"
   ]
  },
  {
   "cell_type": "markdown",
   "metadata": {},
   "source": [
    "<h2> 3.4 Как добыть нужную информацию, не читая документацию к API </h2>\n",
    "Вася, открывший заправку в прошлом уроке, разорился. Конкуренция оказалась слишком большой. Вася предполагает, что это произошло от того, что теги заправки могут быть не только на точке, но и на каком-то контуре. Определите, сколько заправок на самом деле (не только обозначенных точкой) есть на фрагменте карты <a href=\"https://stepik.org/media/attachments/lesson/245681/map2.osm\">https://stepik.org/media/attachments/lesson/245681/map2.osm</a>"
   ]
  },
  {
   "cell_type": "code",
   "execution_count": 3,
   "metadata": {},
   "outputs": [
    {
     "name": "stdout",
     "output_type": "stream",
     "text": [
      "27\n"
     ]
    }
   ],
   "source": [
    "# открываем файл\n",
    "with open('map2.osm', 'r', encoding=\"utf8\") as fobj:\n",
    "    xml = fobj.read()\n",
    "    root = etree.fromstring(xml.encode('utf-8'))\n",
    "    \n",
    "count_fuel = sum(1 for tag in root.iter('tag') if (tag.get('v') == 'fuel' )) # находим количество заправок\n",
    "\n",
    "# выводим результат:\n",
    "print(count_fuel)"
   ]
  }
 ],
 "metadata": {
  "kernelspec": {
   "display_name": "Python 3",
   "language": "python",
   "name": "python3"
  },
  "language_info": {
   "codemirror_mode": {
    "name": "ipython",
    "version": 3
   },
   "file_extension": ".py",
   "mimetype": "text/x-python",
   "name": "python",
   "nbconvert_exporter": "python",
   "pygments_lexer": "ipython3",
   "version": "3.7.3"
  }
 },
 "nbformat": 4,
 "nbformat_minor": 2
}
